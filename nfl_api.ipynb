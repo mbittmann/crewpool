{
 "cells": [
  {
   "cell_type": "code",
   "execution_count": 1,
   "metadata": {},
   "outputs": [],
   "source": [
    "from selenium import webdriver\n",
    "from bs4 import BeautifulSoup"
   ]
  },
  {
   "cell_type": "code",
   "execution_count": 2,
   "metadata": {},
   "outputs": [],
   "source": [
    "URL_STR = \"https://www.nfl.com/schedules/{}/{}{}\""
   ]
  },
  {
   "cell_type": "code",
   "execution_count": 3,
   "metadata": {},
   "outputs": [],
   "source": [
    "def init_driver():\n",
    "    options = webdriver.ChromeOptions()\n",
    "    options.add_argument('headless')\n",
    "    options.add_argument('--ignore-certificate-errors')\n",
    "    options.add_argument('--incognito')\n",
    "    driver = webdriver.Chrome(options=options)\n",
    "    return driver\n",
    "\n",
    "def load_soup_for_page(driver, url):\n",
    "    driver.get(url)\n",
    "    soup = BeautifulSoup(driver.page_source, 'html.parser')\n",
    "    return soup\n",
    "\n",
    "def parse_page_to_dict(soup):\n",
    "    matchup_groups = soup.select(\"section.nfl-o-matchup-group\")\n",
    "    games = []\n",
    "    for group in matchup_groups:\n",
    "        datestr = group.find(\"h2\", class_=\"d3-o-section-title\").get_text()\n",
    "        game_strips = group.select(\"div.nfl-c-matchup-strip\")\n",
    "        for strip in game_strips:\n",
    "            \n",
    "            team_abbv = strip.select(\"span.nfl-c-matchup-strip__team-abbreviation\")\n",
    "            away = team_abbv[0].get_text().strip()\n",
    "            home = team_abbv[1].get_text().strip()\n",
    "            \n",
    "            scores = strip.select(\"div.nfl-c-matchup-strip__team-score\")\n",
    "            if len(scores):\n",
    "                away_score = scores[0].get_text().strip()\n",
    "                home_score = scores[1].get_text().strip()\n",
    "            else:\n",
    "                away_score = 0\n",
    "                home_score = 0\n",
    "\n",
    "            game_time_span = strip.select(\"span.nfl-c-matchup-strip__date-time\")\n",
    "            \n",
    "            if len(game_time_span):  # TODO: Figure out what game time is for live games\n",
    "                game_time = game_time_span[0].get_text().strip()\n",
    "            else:\n",
    "                game_time = None\n",
    "            \n",
    "            game_dict = {}\n",
    "            game_dict['date'] = datestr\n",
    "            game_dict['time'] = game_time\n",
    "            game_dict['away'] = away\n",
    "            game_dict['away_score'] = away_score\n",
    "            game_dict['home'] = home\n",
    "            game_dict['home_score'] = home_score\n",
    "            games.append(game_dict)\n",
    "            \n",
    "    return games\n",
    "            \n",
    "def get_game_data(year, phase, week):\n",
    "    driver = init_driver()        \n",
    "    url = URL_STR.format(year, phase, week)\n",
    "    soup = load_soup_for_page(driver, url)\n",
    "    driver.close()\n",
    "    return parse_page_to_dict(soup)"
   ]
  },
  {
   "cell_type": "markdown",
   "metadata": {},
   "source": [
    "## Print out a list of completed games from last season"
   ]
  },
  {
   "cell_type": "code",
   "execution_count": 4,
   "metadata": {},
   "outputs": [],
   "source": [
    "completed_games = get_game_data(2019, \"REG\", 2)\n",
    "for game in completed_games:\n",
    "    print(game)"
   ]
  },
  {
   "cell_type": "markdown",
   "metadata": {},
   "source": [
    "## Print out a list of scheduled games from this season"
   ]
  },
  {
   "cell_type": "code",
   "execution_count": 5,
   "metadata": {},
   "outputs": [
    {
     "name": "stdout",
     "output_type": "stream",
     "text": [
      "{'date': 'Thursday, September 10th', 'time': '8:20 PM', 'away': 'HOU', 'away_score': 0, 'home': 'KC', 'home_score': 0}\n",
      "{'date': 'Sunday, September 13th', 'time': '1:00 PM', 'away': 'PHI', 'away_score': 0, 'home': 'WAS', 'home_score': 0}\n",
      "{'date': 'Sunday, September 13th', 'time': '1:00 PM', 'away': 'MIA', 'away_score': 0, 'home': 'NE', 'home_score': 0}\n",
      "{'date': 'Sunday, September 13th', 'time': '1:00 PM', 'away': 'GB', 'away_score': 0, 'home': 'MIN', 'home_score': 0}\n",
      "{'date': 'Sunday, September 13th', 'time': '1:00 PM', 'away': 'IND', 'away_score': 0, 'home': 'JAX', 'home_score': 0}\n",
      "{'date': 'Sunday, September 13th', 'time': '1:00 PM', 'away': 'CHI', 'away_score': 0, 'home': 'DET', 'home_score': 0}\n",
      "{'date': 'Sunday, September 13th', 'time': '1:00 PM', 'away': 'LV', 'away_score': 0, 'home': 'CAR', 'home_score': 0}\n",
      "{'date': 'Sunday, September 13th', 'time': '1:00 PM', 'away': 'NYJ', 'away_score': 0, 'home': 'BUF', 'home_score': 0}\n",
      "{'date': 'Sunday, September 13th', 'time': '1:00 PM', 'away': 'CLE', 'away_score': 0, 'home': 'BAL', 'home_score': 0}\n",
      "{'date': 'Sunday, September 13th', 'time': '1:00 PM', 'away': 'SEA', 'away_score': 0, 'home': 'ATL', 'home_score': 0}\n",
      "{'date': 'Sunday, September 13th', 'time': '4:05 PM', 'away': 'LAC', 'away_score': 0, 'home': 'CIN', 'home_score': 0}\n",
      "{'date': 'Sunday, September 13th', 'time': '4:25 PM', 'away': 'ARI', 'away_score': 0, 'home': 'SF', 'home_score': 0}\n",
      "{'date': 'Sunday, September 13th', 'time': '4:25 PM', 'away': 'TB', 'away_score': 0, 'home': 'NO', 'home_score': 0}\n",
      "{'date': 'Sunday, September 13th', 'time': '8:20 PM', 'away': 'DAL', 'away_score': 0, 'home': 'LA', 'home_score': 0}\n",
      "{'date': 'Monday, September 14th', 'time': '7:15 PM', 'away': 'PIT', 'away_score': 0, 'home': 'NYG', 'home_score': 0}\n",
      "{'date': 'Monday, September 14th', 'time': '10:10 PM', 'away': 'TEN', 'away_score': 0, 'home': 'DEN', 'home_score': 0}\n"
     ]
    }
   ],
   "source": [
    "scheduled_games = get_game_data(2020, \"REG\", 1)\n",
    "for game in scheduled_games:\n",
    "    print(game)"
   ]
  },
  {
   "cell_type": "code",
   "execution_count": null,
   "metadata": {},
   "outputs": [],
   "source": []
  }
 ],
 "metadata": {
  "kernelspec": {
   "display_name": "Python 3",
   "language": "python",
   "name": "python3"
  },
  "language_info": {
   "codemirror_mode": {
    "name": "ipython",
    "version": 3
   },
   "file_extension": ".py",
   "mimetype": "text/x-python",
   "name": "python",
   "nbconvert_exporter": "python",
   "pygments_lexer": "ipython3",
   "version": "3.7.0"
  }
 },
 "nbformat": 4,
 "nbformat_minor": 2
}
