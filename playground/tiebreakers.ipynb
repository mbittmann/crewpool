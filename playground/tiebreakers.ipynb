{
 "cells": [
  {
   "cell_type": "code",
   "execution_count": 40,
   "metadata": {},
   "outputs": [],
   "source": [
    "import pandas as pd\n",
    "import matplotlib.pyplot as plt\n",
    "from scipy import stats\n",
    "\n",
    "data_dir = \"~/data/crewpool/NFLData_2000-2013\"\n",
    "games_path = \"{}/GAMES.csv\".format(data_dir)"
   ]
  },
  {
   "cell_type": "code",
   "execution_count": 28,
   "metadata": {},
   "outputs": [
    {
     "data": {
      "text/html": [
       "<div>\n",
       "<style scoped>\n",
       "    .dataframe tbody tr th:only-of-type {\n",
       "        vertical-align: middle;\n",
       "    }\n",
       "\n",
       "    .dataframe tbody tr th {\n",
       "        vertical-align: top;\n",
       "    }\n",
       "\n",
       "    .dataframe thead th {\n",
       "        text-align: right;\n",
       "    }\n",
       "</style>\n",
       "<table border=\"1\" class=\"dataframe\">\n",
       "  <thead>\n",
       "    <tr style=\"text-align: right;\">\n",
       "      <th></th>\n",
       "      <th>SEAS</th>\n",
       "      <th>WEEK</th>\n",
       "      <th>DAY</th>\n",
       "      <th>total</th>\n",
       "      <th>OU</th>\n",
       "      <th>ou_diff</th>\n",
       "    </tr>\n",
       "    <tr>\n",
       "      <th>GID</th>\n",
       "      <th></th>\n",
       "      <th></th>\n",
       "      <th></th>\n",
       "      <th></th>\n",
       "      <th></th>\n",
       "      <th></th>\n",
       "    </tr>\n",
       "  </thead>\n",
       "  <tbody>\n",
       "    <tr>\n",
       "      <td>2568</td>\n",
       "      <td>2009</td>\n",
       "      <td>13</td>\n",
       "      <td>SUN</td>\n",
       "      <td>36</td>\n",
       "      <td>42.0</td>\n",
       "      <td>-6.0</td>\n",
       "    </tr>\n",
       "    <tr>\n",
       "      <td>2990</td>\n",
       "      <td>2011</td>\n",
       "      <td>5</td>\n",
       "      <td>SUN</td>\n",
       "      <td>52</td>\n",
       "      <td>38.5</td>\n",
       "      <td>13.5</td>\n",
       "    </tr>\n",
       "    <tr>\n",
       "      <td>483</td>\n",
       "      <td>2001</td>\n",
       "      <td>16</td>\n",
       "      <td>SUN</td>\n",
       "      <td>24</td>\n",
       "      <td>37.5</td>\n",
       "      <td>-13.5</td>\n",
       "    </tr>\n",
       "    <tr>\n",
       "      <td>16</td>\n",
       "      <td>2000</td>\n",
       "      <td>2</td>\n",
       "      <td>SUN</td>\n",
       "      <td>75</td>\n",
       "      <td>36.0</td>\n",
       "      <td>39.0</td>\n",
       "    </tr>\n",
       "    <tr>\n",
       "      <td>3702</td>\n",
       "      <td>2013</td>\n",
       "      <td>17</td>\n",
       "      <td>SUN</td>\n",
       "      <td>27</td>\n",
       "      <td>51.5</td>\n",
       "      <td>-24.5</td>\n",
       "    </tr>\n",
       "  </tbody>\n",
       "</table>\n",
       "</div>"
      ],
      "text/plain": [
       "      SEAS  WEEK  DAY  total    OU  ou_diff\n",
       "GID                                        \n",
       "2568  2009    13  SUN     36  42.0     -6.0\n",
       "2990  2011     5  SUN     52  38.5     13.5\n",
       "483   2001    16  SUN     24  37.5    -13.5\n",
       "16    2000     2  SUN     75  36.0     39.0\n",
       "3702  2013    17  SUN     27  51.5    -24.5"
      ]
     },
     "execution_count": 28,
     "metadata": {},
     "output_type": "execute_result"
    }
   ],
   "source": [
    "games = pd.read_csv(games_path).set_index(\"GID\")\n",
    "games['total'] = games.PTSV + games.PTSH\n",
    "games['ou_diff'] = games.total - games.OU\n",
    "\n",
    "\n",
    "spreads = games[['SEAS', 'WEEK', 'DAY', 'total', 'OU', 'ou_diff']]\n",
    "mnf = spreads[spreads.DAY == 'MN']\n",
    "\n",
    "spreads.sample(5)"
   ]
  },
  {
   "cell_type": "code",
   "execution_count": 37,
   "metadata": {},
   "outputs": [
    {
     "name": "stdout",
     "output_type": "stream",
     "text": [
      "43.214669532509404\n",
      "14.291711505234932\n"
     ]
    },
    {
     "data": {
      "image/png": "[encoded data removed]",
      "text/plain": [
       "<Figure size 432x288 with 1 Axes>"
      ]
     },
     "metadata": {
      "needs_background": "light"
     },
     "output_type": "display_data"
    }
   ],
   "source": [
    "spreads.total.hist(bins=50).plot()\n",
    "print(spreads.total.mean())\n",
    "print(spreads.total.std())"
   ]
  },
  {
   "cell_type": "code",
   "execution_count": 38,
   "metadata": {},
   "outputs": [
    {
     "name": "stdout",
     "output_type": "stream",
     "text": [
      "44.82553191489362\n",
      "14.914549600305067\n"
     ]
    },
    {
     "data": {
      "image/png": "[encoded data removed]",
      "text/plain": [
       "<Figure size 432x288 with 1 Axes>"
      ]
     },
     "metadata": {
      "needs_background": "light"
     },
     "output_type": "display_data"
    }
   ],
   "source": [
    "mnf.total.hist(bins=50).plot()\n",
    "print(mnf.total.mean())\n",
    "print(mnf.total.std())"
   ]
  },
  {
   "cell_type": "code",
   "execution_count": 35,
   "metadata": {},
   "outputs": [
    {
     "name": "stdout",
     "output_type": "stream",
     "text": [
      "1.0502418054809242\n",
      "13.599184302790238\n"
     ]
    },
    {
     "data": {
      "image/png": "[encoded data removed]",
      "text/plain": [
       "<Figure size 432x288 with 1 Axes>"
      ]
     },
     "metadata": {
      "needs_background": "light"
     },
     "output_type": "display_data"
    }
   ],
   "source": [
    "spreads.ou_diff.hist(bins=50).plot()\n",
    "print(spreads.ou_diff.mean())\n",
    "print(spreads.ou_diff.std())"
   ]
  },
  {
   "cell_type": "code",
   "execution_count": 36,
   "metadata": {},
   "outputs": [
    {
     "name": "stdout",
     "output_type": "stream",
     "text": [
      "1.4978723404255319\n",
      "14.370293571603217\n"
     ]
    },
    {
     "data": {
      "image/png": "[encoded data removed]",
      "text/plain": [
       "<Figure size 432x288 with 1 Axes>"
      ]
     },
     "metadata": {
      "needs_background": "light"
     },
     "output_type": "display_data"
    }
   ],
   "source": [
    "mnf.ou_diff.hist(bins=50).plot()\n",
    "print(mnf.ou_diff.mean())\n",
    "print(mnf.ou_diff.std())"
   ]
  },
  {
   "cell_type": "code",
   "execution_count": 69,
   "metadata": {},
   "outputs": [
    {
     "name": "stdout",
     "output_type": "stream",
     "text": [
      "ou_diff, p_value\n",
      "-50,2.9395339697575108e-05\n",
      "-49,3.852653365047505e-05\n",
      "-48,5.0222012948771824e-05\n",
      "-47,6.511499666033061e-05\n",
      "-46,8.396932400761884e-05\n",
      "-45,0.00010769933426475455\n",
      "-44,0.00013739094421808456\n",
      "-43,0.00017432349541647682\n",
      "-42,0.0002199917886184468\n",
      "-41,0.00027612755282090356\n",
      "-40,0.0003447194160970965\n",
      "-39,0.00042803026225200617\n",
      "-38,0.0005286106801712814\n",
      "-37,0.0006493070528625169\n",
      "-36,0.0007932627035308385\n",
      "-35,0.000963910430955563\n",
      "-34,0.0011649547410893706\n",
      "-33,0.001400342131321444\n",
      "-32,0.00167421792235198\n",
      "-31,0.001990868372086386\n",
      "-30,0.002354647154935323\n",
      "-29,0.0027698857522877353\n",
      "-28,0.0032407878737160632\n",
      "-27,0.0037713087047635124\n",
      "-26,0.004365020539372412\n",
      "-25,0.005024967178549642\n",
      "-24,0.005753510329238286\n",
      "-23,0.006552172078942126\n",
      "-22,0.00742147830693958\n",
      "-21,0.008360808572572688\n",
      "-20,0.009368258544385118\n",
      "-19,0.01044052135173612\n",
      "-18,0.011572794308831569\n",
      "-17,0.012758717244172935\n",
      "-16,0.013990348142242814\n",
      "-15,0.01525818095948106\n",
      "-14,0.016551209320869453\n",
      "-13,0.017857038362700972\n",
      "-12,0.01916204530598553\n",
      "-11,0.020451587485868616\n",
      "-10,0.021710254603361956\n",
      "-9,0.02292215999677455\n",
      "-8,0.02407126384923053\n",
      "-7,0.025141719555586417\n",
      "-6,0.026118233063188112\n",
      "-5,0.026986423962800432\n",
      "-4,0.02773317650959345\n",
      "-3,0.028346968649554494\n",
      "-2,0.028818167539638118\n",
      "-1,0.029139280978689397\n",
      "0,0.029305155580830966\n",
      "1,0.0293131143665884\n",
      "2,0.029163028638039434\n",
      "3,0.02885732144110742\n",
      "4,0.028400902484833734\n",
      "5,0.027801036960448666\n",
      "6,0.027067153158374824\n",
      "7,0.026210596001888242\n",
      "8,0.02524433549870453\n",
      "9,0.02418264057253805\n",
      "10,0.023040729716026\n",
      "11,0.02183441037174383\n",
      "12,0.020579718894780274\n",
      "13,0.01929257240145066\n",
      "14,0.01798844281209233\n",
      "15,0.016682062020569655\n",
      "16,0.015387165454375351\n",
      "17,0.014116279422573319\n",
      "18,0.012880555684262607\n",
      "19,0.011689654705941521\n",
      "20,0.010551677203247789\n",
      "21,0.009473141860479428\n",
      "22,0.008459005654044893\n",
      "23,0.00751272202016573\n",
      "24,0.006636331230474801\n",
      "25,0.005830576781135299\n",
      "26,0.005095041353940677\n",
      "27,0.004428295948962546\n",
      "28,0.0038280560829616617\n",
      "29,0.00329133945259652\n",
      "30,0.002814620127681633\n",
      "31,0.002393975116703584\n",
      "32,0.002025219984857607\n",
      "33,0.0017040310580602736\n",
      "34,0.0014260525744186348\n",
      "35,0.0011869879142577533\n",
      "36,0.0009826747256082013\n",
      "37,0.0008091443466773374\n",
      "38,0.0006626664005955352\n",
      "39,0.0005397797980198904\n",
      "40,0.00043731163332105805\n",
      "41,0.00035238560823280807\n",
      "42,0.00028242167470005075\n",
      "43,0.0002251285701546646\n",
      "44,0.0001784908386918138\n",
      "45,0.00014075180576622603\n",
      "46,0.00011039381658439762\n",
      "47,8.61168724232142e-05\n",
      "48,6.681661605889566e-05\n",
      "49,5.1562436663155076e-05\n"
     ]
    }
   ],
   "source": [
    "diff_mean = spreads.ou_diff.mean()\n",
    "diff_stddev = spreads.ou_diff.std()\n",
    "\n",
    "norm_dist = stats.norm(loc=diff_mean, scale=diff_stddev)\n",
    "\n",
    "\n",
    "print(\"ou_diff, p_value\")\n",
    "for i in range(-50, 50):\n",
    "    p_lower = norm_dist.cdf(i)\n",
    "    p_upper = norm_dist.cdf(i+1)\n",
    "    p = p_upper - p_lower\n",
    "    print(\"{},{}\".format(i, p))\n"
   ]
  }
 ],
 "metadata": {
  "kernelspec": {
   "display_name": "Python 3",
   "language": "python",
   "name": "python3"
  },
  "language_info": {
   "codemirror_mode": {
    "name": "ipython",
    "version": 3
   },
   "file_extension": ".py",
   "mimetype": "text/x-python",
   "name": "python",
   "nbconvert_exporter": "python",
   "pygments_lexer": "ipython3",
   "version": "3.7.0"
  }
 },
 "nbformat": 4,
 "nbformat_minor": 2
}
